{
  "nbformat": 4,
  "nbformat_minor": 0,
  "metadata": {
    "colab": {
      "provenance": []
    },
    "kernelspec": {
      "name": "python3",
      "display_name": "Python 3"
    },
    "language_info": {
      "name": "python"
    }
  },
  "cells": [
    {
      "cell_type": "markdown",
      "source": [
        "**1.Explain the key features of python that make it a popular choise in programming.**\n",
        "\n",
        "*Python Easy to Learn\n",
        "\n",
        "*Dynamically Typed Language\n",
        "\n",
        "*Free and Open Source\n",
        "\n",
        "*Object-Oriented Programming Language\n",
        "\n",
        "*Large Standard Library Support\n",
        "\n",
        "*Dynamic Memory Allocation\n",
        "\n",
        "*Database Support\n",
        "\n",
        "*Integrated"
      ],
      "metadata": {
        "id": "ZeU2Btc1YWX3"
      }
    },
    {
      "cell_type": "markdown",
      "source": [
        "**2. Describe the role of predefined keywords in Python and provide examples of how they are used in a program.**\n",
        "\n",
        "Python Keywords are some predefined and reserved words in Python that have special meanings. Keywords are used to define the syntax of the coding. The keyword cannot be used as an identifier, function, or variable name.\n",
        "\n",
        "Keywords are used to define the syntax of coding.\n",
        "\n",
        "there are total 36 keywords in python 3.11 version. some of examples are - True ,False ,print ,import ,if ,else ,for , while\n",
        "\n",
        "examples with code --\n",
        "\n"
      ],
      "metadata": {
        "id": "v6LnAYyFb4KL"
      }
    },
    {
      "cell_type": "code",
      "execution_count": null,
      "metadata": {
        "id": "BB0PdeUUYMgX"
      },
      "outputs": [],
      "source": [
        "# if we define print as variable than print keyword not work farther in code and throw a error\n",
        "print=32 # here define print as variable\n",
        "print"
      ]
    },
    {
      "cell_type": "code",
      "source": [
        "print(\"hi\")"
      ],
      "metadata": {
        "colab": {
          "base_uri": "https://localhost:8080/",
          "height": 141
        },
        "id": "agBv1_A5emg5",
        "outputId": "f801f60d-93f5-466e-8a33-8f6259ac664e"
      },
      "execution_count": null,
      "outputs": [
        {
          "output_type": "error",
          "ename": "TypeError",
          "evalue": "'int' object is not callable",
          "traceback": [
            "\u001b[0;31m---------------------------------------------------------------------------\u001b[0m",
            "\u001b[0;31mTypeError\u001b[0m                                 Traceback (most recent call last)",
            "\u001b[0;32m<ipython-input-7-e391717d942d>\u001b[0m in \u001b[0;36m<cell line: 1>\u001b[0;34m()\u001b[0m\n\u001b[0;32m----> 1\u001b[0;31m \u001b[0mprint\u001b[0m\u001b[0;34m(\u001b[0m\u001b[0;34m\"hi\"\u001b[0m\u001b[0;34m)\u001b[0m\u001b[0;34m\u001b[0m\u001b[0;34m\u001b[0m\u001b[0m\n\u001b[0m",
            "\u001b[0;31mTypeError\u001b[0m: 'int' object is not callable"
          ]
        }
      ]
    },
    {
      "cell_type": "code",
      "source": [
        "# another example --if\n",
        "if=3"
      ],
      "metadata": {
        "colab": {
          "base_uri": "https://localhost:8080/",
          "height": 106
        },
        "id": "M0UgvCn_ese_",
        "outputId": "9a137226-75b1-49b4-95e2-4f550244de64"
      },
      "execution_count": null,
      "outputs": [
        {
          "output_type": "error",
          "ename": "SyntaxError",
          "evalue": "invalid syntax (<ipython-input-3-f7b996eac5e7>, line 2)",
          "traceback": [
            "\u001b[0;36m  File \u001b[0;32m\"<ipython-input-3-f7b996eac5e7>\"\u001b[0;36m, line \u001b[0;32m2\u001b[0m\n\u001b[0;31m    if=3\u001b[0m\n\u001b[0m      ^\u001b[0m\n\u001b[0;31mSyntaxError\u001b[0m\u001b[0;31m:\u001b[0m invalid syntax\n"
          ]
        }
      ]
    },
    {
      "cell_type": "markdown",
      "source": [
        "**3.Compare and contrast mutable and immutable objects in Python with examples.**\n",
        "In Python, objects are classified as either mutable or immutable based on whether their values can be changed after creation.\n",
        "\n",
        "##Mutable Objects -\n",
        "\n",
        "Mutable objects are those whose values can be modified after they are created.\n",
        "\n",
        "Examples - Lists, dictionaries, sets.\n",
        "\n",
        "Behavior - You can change individual elements, add or remove elements, and modify the object's internal state without creating a new object.\n",
        "\n",
        "##Immutable Objects -\n",
        "\n",
        "Immutable objects are those whose values cannot be changed after they are created.\n",
        "\n",
        "Examples - Numbers (int, float), strings, tuples.\n",
        "\n",
        "Behavior - Any operation that appears to modify an immutable object actually creates a new object with the modified value.\n",
        "\n",
        "\n",
        "\n",
        "\n"
      ],
      "metadata": {
        "id": "1dnBzWsLe7Kw"
      }
    },
    {
      "cell_type": "code",
      "source": [
        "# mutable objects\n",
        "list1=[1,2,3,4,8]\n",
        "list1.append(7) # here add 7 to list\n",
        "list1[3]=9 # here change 4 th index value to 9\n",
        "list1"
      ],
      "metadata": {
        "colab": {
          "base_uri": "https://localhost:8080/"
        },
        "id": "XfiHHc2fhAY4",
        "outputId": "bbca7bed-110a-492b-91b2-d23288367d92"
      },
      "execution_count": null,
      "outputs": [
        {
          "output_type": "execute_result",
          "data": {
            "text/plain": [
              "[1, 2, 3, 9, 8, 7]"
            ]
          },
          "metadata": {},
          "execution_count": 11
        }
      ]
    },
    {
      "cell_type": "code",
      "source": [
        "#immutable objects\n",
        "string=\"hi\"\n",
        "string[1]=\"g\" # try to change 2nd index of string i to g\n",
        "string"
      ],
      "metadata": {
        "colab": {
          "base_uri": "https://localhost:8080/",
          "height": 193
        },
        "id": "x0WiL89RiIea",
        "outputId": "bcf66870-cbd1-41bf-e096-4537c64b5638"
      },
      "execution_count": null,
      "outputs": [
        {
          "output_type": "error",
          "ename": "TypeError",
          "evalue": "'str' object does not support item assignment",
          "traceback": [
            "\u001b[0;31m---------------------------------------------------------------------------\u001b[0m",
            "\u001b[0;31mTypeError\u001b[0m                                 Traceback (most recent call last)",
            "\u001b[0;32m<ipython-input-12-fed382458649>\u001b[0m in \u001b[0;36m<cell line: 3>\u001b[0;34m()\u001b[0m\n\u001b[1;32m      1\u001b[0m \u001b[0;31m#immutable objects\u001b[0m\u001b[0;34m\u001b[0m\u001b[0;34m\u001b[0m\u001b[0m\n\u001b[1;32m      2\u001b[0m \u001b[0mstring\u001b[0m\u001b[0;34m=\u001b[0m\u001b[0;34m\"hi\"\u001b[0m\u001b[0;34m\u001b[0m\u001b[0;34m\u001b[0m\u001b[0m\n\u001b[0;32m----> 3\u001b[0;31m \u001b[0mstring\u001b[0m\u001b[0;34m[\u001b[0m\u001b[0;36m1\u001b[0m\u001b[0;34m]\u001b[0m\u001b[0;34m=\u001b[0m\u001b[0;34m\"g\"\u001b[0m \u001b[0;31m# try to change 2nd index of string i to g\u001b[0m\u001b[0;34m\u001b[0m\u001b[0;34m\u001b[0m\u001b[0m\n\u001b[0m\u001b[1;32m      4\u001b[0m \u001b[0mstring\u001b[0m\u001b[0;34m\u001b[0m\u001b[0;34m\u001b[0m\u001b[0m\n",
            "\u001b[0;31mTypeError\u001b[0m: 'str' object does not support item assignment"
          ]
        }
      ]
    },
    {
      "cell_type": "markdown",
      "source": [
        "**4. Discuss the different types of operators in Python and provide examples of how they are used.**\n",
        "\n",
        "Arithmetic operators -\n",
        "\n",
        "Perform basic mathematical operations like addition (+) and subtraction (-), multiplication (), division (/), exponentiation (*), modulo (%), and floor division (//). For example, 2 + 3.\n",
        "\n",
        "Logical operators -\n",
        "\n",
        "Make decisions based on multiple conditions, such as \"and\", \"or\", and \"not\". For example, \"x < 10 and y < 20\".\n",
        "\n",
        "Bitwise operators -\n",
        "\n",
        "Perform operations on individual bits of binary numbers, such as \"&\" for bitwise AND, \"|\" for bitwise OR, and \"^\" for bitwise XOR.\n",
        "\n",
        "Assignment operators -\n",
        "\n",
        "Assign values to variables, such as \"=\". For example, \"num = 5\".\n",
        "\n",
        "Relational operators -\n",
        "\n",
        "Establish a relationship between two entities, such as equality, inequality, greater than, and less than. These operators return a Boolean value of True or False.\n",
        "\n",
        "Identity operators -\n",
        "\n",
        "Compare two objects' memory addresses, such as \"is\" and \"is not\". If the objects refer to the same memory address, they evaluate to True.\n",
        "\n",
        "Membership operators -\n",
        "\n",
        "Check for membership in sequences, such as a string, list, or tuple. The \"in\" operator returns True if the value is in the sequence, and False if it's not.\n",
        "\n",
        "Ternary operators -\n",
        "\n",
        "Conditional expressions inspired by the ternary operator \"? b : c\". This construct evaluates to \"b\" if the value of \"a\" is true, and otherwise evaluates to \"c\"."
      ],
      "metadata": {
        "id": "HQt00BpOileU"
      }
    },
    {
      "cell_type": "markdown",
      "source": [
        "**5. Explain the concept of type casting in Python with examples.**\n",
        "\n",
        "Type casting in Python is the process of converting a value from one data type to another. It's also known as type conversion. There are two types of type casting:\n",
        "1. Implicit Type Casting:\n",
        "\n",
        "Python automatically performs this type of casting. It occurs when you perform an operation involving different data types, and Python tries to convert one type to another to make the operation work.\n",
        "\n",
        "2. Explicit Type Casting:\n",
        "\n",
        "This type of casting is done explicitly by the programmer using built-in functions like int(), float(), and str()."
      ],
      "metadata": {
        "id": "lP5wVE0Hj6Ih"
      }
    },
    {
      "cell_type": "code",
      "source": [
        "x = 10  # integer\n",
        "y = 2.5  # float\n",
        "\n",
        "z = x + y  # implicit type casting, x is converted to float\n",
        "z"
      ],
      "metadata": {
        "colab": {
          "base_uri": "https://localhost:8080/"
        },
        "id": "Ni3qrgB4jvqp",
        "outputId": "4e137d0e-bc01-42f2-b670-e07068d17d29"
      },
      "execution_count": null,
      "outputs": [
        {
          "output_type": "execute_result",
          "data": {
            "text/plain": [
              "12.5"
            ]
          },
          "metadata": {},
          "execution_count": 13
        }
      ]
    },
    {
      "cell_type": "code",
      "source": [
        "a = 10.5  # float\n",
        "b = int(a)  # explicit type casting to integer\n",
        "b"
      ],
      "metadata": {
        "colab": {
          "base_uri": "https://localhost:8080/"
        },
        "id": "klITNK_kkiBe",
        "outputId": "5fcd0c8b-f3ce-44c8-cdee-d4ed9b22d2bc"
      },
      "execution_count": null,
      "outputs": [
        {
          "output_type": "execute_result",
          "data": {
            "text/plain": [
              "10"
            ]
          },
          "metadata": {},
          "execution_count": 15
        }
      ]
    },
    {
      "cell_type": "code",
      "source": [
        "c = \"20\"  # string\n",
        "d = int(c)  # explicit type casting to integer\n",
        "d"
      ],
      "metadata": {
        "colab": {
          "base_uri": "https://localhost:8080/"
        },
        "id": "UG7GCU6Ak1dF",
        "outputId": "f4680700-bc92-47b3-b0b8-09c71c392e2e"
      },
      "execution_count": null,
      "outputs": [
        {
          "output_type": "execute_result",
          "data": {
            "text/plain": [
              "20"
            ]
          },
          "metadata": {},
          "execution_count": 16
        }
      ]
    },
    {
      "cell_type": "code",
      "source": [
        "e = 30  # integer\n",
        "f = str(e)  # explicit type casting to string\n",
        "f"
      ],
      "metadata": {
        "colab": {
          "base_uri": "https://localhost:8080/",
          "height": 35
        },
        "id": "lm7KmapUk3mR",
        "outputId": "b4d7622a-dd89-4b03-e21f-488b2167a00b"
      },
      "execution_count": null,
      "outputs": [
        {
          "output_type": "execute_result",
          "data": {
            "text/plain": [
              "'30'"
            ],
            "application/vnd.google.colaboratory.intrinsic+json": {
              "type": "string"
            }
          },
          "metadata": {},
          "execution_count": 17
        }
      ]
    },
    {
      "cell_type": "markdown",
      "source": [
        "**6.How do conditional statements work in Python? Illustrate with examples.**\n",
        "\n",
        "Conditional statements in Python allow you to control the flow of your program based on certain conditions. The main types of conditional statements are:\n",
        "1. if statement:\n",
        "\n",
        "The if statement executes a block of code only if the specified condition is true.\n",
        "\n",
        "2. if-else statement:\n",
        "\n",
        "The if-else statement allows you to execute one block of code if the condition is true, and another block if it's false.\n",
        "\n",
        "3. if-elif-else statement:\n",
        "\n",
        "The if-elif-else statement allows you to test multiple conditions in sequence.\n",
        "\n",
        "\n",
        "4. Nested if statements:\n",
        "\n",
        "You can nest if statements inside each other for more complex conditions.\n"
      ],
      "metadata": {
        "id": "5JqBibG7lCxP"
      }
    },
    {
      "cell_type": "code",
      "source": [
        "# if statement\n",
        "x = 10\n",
        "\n",
        "if x > 5:\n",
        "    print(\"x is greater than 5\")"
      ],
      "metadata": {
        "colab": {
          "base_uri": "https://localhost:8080/"
        },
        "id": "6rVFOzz3mA-c",
        "outputId": "f89f6b69-3275-438a-e16f-861cd0414915"
      },
      "execution_count": null,
      "outputs": [
        {
          "output_type": "stream",
          "name": "stdout",
          "text": [
            "x is greater than 5\n"
          ]
        }
      ]
    },
    {
      "cell_type": "code",
      "source": [
        "# if-else\n",
        "x = 3\n",
        "\n",
        "if x > 5:\n",
        "    print(\"x is greater than 5\")\n",
        "else:\n",
        "    print(\"x is not greater than 5\")"
      ],
      "metadata": {
        "colab": {
          "base_uri": "https://localhost:8080/"
        },
        "id": "u4uA89YEmRQK",
        "outputId": "3ffeb0a6-976b-4da5-fd47-00649e4d88ce"
      },
      "execution_count": null,
      "outputs": [
        {
          "output_type": "stream",
          "name": "stdout",
          "text": [
            "x is not greater than 5\n"
          ]
        }
      ]
    },
    {
      "cell_type": "code",
      "source": [
        "#if-elif-else\n",
        "x = 10\n",
        "\n",
        "if x > 15:\n",
        "    print(\"x is greater than 15\")\n",
        "elif x > 5:\n",
        "    print(\"x is greater than 5 but less than or equal to 15\")\n",
        "else:\n",
        "    print(\"x is less than or equal to 5\")"
      ],
      "metadata": {
        "colab": {
          "base_uri": "https://localhost:8080/"
        },
        "id": "EAslIN-lmY8S",
        "outputId": "1217d2e7-6f2c-45f6-b9cf-4b604497d83e"
      },
      "execution_count": null,
      "outputs": [
        {
          "output_type": "stream",
          "name": "stdout",
          "text": [
            "x is greater than 5 but less than or equal to 15\n"
          ]
        }
      ]
    },
    {
      "cell_type": "code",
      "source": [
        "#Nested if\n",
        "x = 10\n",
        "y = 5\n",
        "\n",
        "if x > 5:\n",
        "    if y > 2:\n",
        "        print(\"Both x and y meet the conditions\")"
      ],
      "metadata": {
        "colab": {
          "base_uri": "https://localhost:8080/"
        },
        "id": "mjN7SmdxmhMh",
        "outputId": "48127dc8-0fc1-4a08-f039-1361158aa270"
      },
      "execution_count": null,
      "outputs": [
        {
          "output_type": "stream",
          "name": "stdout",
          "text": [
            "Both x and y meet the conditions\n"
          ]
        }
      ]
    },
    {
      "cell_type": "markdown",
      "source": [
        "**7. Describe the different types of loops in Python and their use cases with examples.**\n",
        "\n",
        "Python offers two main types of loops -\n",
        "\n",
        "For Loop -\n",
        "\n",
        "Used to iterate over a sequence (e.g., list, tuple, string, dictionary) and execute a block of code for each element in the sequence.\n",
        "\n",
        "While Loop -\n",
        "\n",
        "Used to repeatedly execute a block of code as long as a certain condition remains true.\n",
        "\n",
        "Use Cases -\n",
        "\n",
        "For Loop -\n",
        "\n",
        "* Processing data in lists, tuples, dictionaries\n",
        "* Iterating over files line by line\n",
        "* Performing calculations on a range of values\n",
        "* Generating patterns\n",
        "\n",
        "While Loop -\n",
        "\n",
        "* Reading input from a user until a specific condition is met\n",
        "* Implementing algorithms that require repetition until a certain state is reached\n",
        "* Creating games with looping gameplay"
      ],
      "metadata": {
        "id": "yhILtTQMmofa"
      }
    },
    {
      "cell_type": "code",
      "source": [
        "# for loop\n",
        "#Iterating over a list\n",
        "numbers = [1, 2, 3, 4, 5]\n",
        "for num in numbers:\n",
        "    print(num)"
      ],
      "metadata": {
        "colab": {
          "base_uri": "https://localhost:8080/"
        },
        "id": "KOSZAgi6nnJP",
        "outputId": "92f42eca-24dd-4b57-99ad-f010fb2055cc"
      },
      "execution_count": null,
      "outputs": [
        {
          "output_type": "stream",
          "name": "stdout",
          "text": [
            "1\n",
            "2\n",
            "3\n",
            "4\n",
            "5\n"
          ]
        }
      ]
    },
    {
      "cell_type": "code",
      "source": [
        "# while loop\n",
        "# Printing numbers until a condition is met\n",
        "count = 0\n",
        "while count < 5:\n",
        "    print(count)\n",
        "    count += 1"
      ],
      "metadata": {
        "colab": {
          "base_uri": "https://localhost:8080/"
        },
        "id": "TwhDKqxvnv2W",
        "outputId": "1586afd8-18f6-4ee6-f7f0-edd8439f2e24"
      },
      "execution_count": null,
      "outputs": [
        {
          "output_type": "stream",
          "name": "stdout",
          "text": [
            "0\n",
            "1\n",
            "2\n",
            "3\n",
            "4\n"
          ]
        }
      ]
    }
  ]
}